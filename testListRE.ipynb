{
 "cells": [
  {
   "cell_type": "code",
   "execution_count": 1,
   "metadata": {},
   "outputs": [],
   "source": [
    "// this is jupyter noterbook in C# kernel\n",
    "// it is for testing regular expression in APAWriter"
   ]
  },
  {
   "cell_type": "code",
   "execution_count": 2,
   "metadata": {},
   "outputs": [],
   "source": [
    "using System;\n",
    "using System.Collections.Generic;\n",
    "using System.Linq;\n",
    "using System.Text;\n",
    "using System.Threading.Tasks;\n",
    "using System.Text.RegularExpressions;"
   ]
  },
  {
   "cell_type": "code",
   "execution_count": 72,
   "metadata": {},
   "outputs": [
    {
     "data": {
      "text/plain": [
       "Start\n"
      ]
     },
     "metadata": {},
     "output_type": "display_data"
    }
   ],
   "source": [
    "\n",
    "Console.WriteLine(\"Start\");\n",
    "string content =@\"\n",
    "this is a test string\n",
    "\n",
    "- adsfsd this is \n",
    "- bsfdssd\n",
    "- c\n",
    "\";\n",
    "\n"
   ]
  },
  {
   "cell_type": "code",
   "execution_count": 31,
   "metadata": {},
   "outputs": [],
   "source": [
    "private string ReplaceByValue(string content, string oldValue, string newValue){\n",
    "    // return Regex.Replace(content, oldValue, newValue);\n",
    "    return content.Replace(oldValue, newValue);\n",
    "}"
   ]
  },
  {
   "cell_type": "code",
   "execution_count": null,
   "metadata": {},
   "outputs": [],
   "source": []
  },
  {
   "cell_type": "code",
   "execution_count": 73,
   "metadata": {},
   "outputs": [],
   "source": [
    "\n",
    "\n",
    "string ReplaceByMatch(string source,string content, Match m)\n",
    "{\n",
    "    string tmp = \"\\\\item \";\n",
    "    string newValue = \"\";\n",
    "    try\n",
    "    {\n",
    "        newValue = tmp + content.Substring(m.Index+2 , m.Length-1);\n",
    "\n",
    "        return ReplaceByValue(source, m.Value, newValue);\n",
    "    }\n",
    "    catch (ArgumentOutOfRangeException e)\n",
    "    {\n",
    "        if (m.Length >= 3 || m.Length<=1)\n",
    "        {\n",
    "            //throw e;\n",
    "        }\n",
    "        throw e;\n",
    "\n",
    "    }\n",
    "    catch (Exception e)\n",
    "    {\n",
    "        throw e;\n",
    "    }\n",
    "\n",
    "\n",
    "    return null;\n",
    "}\n",
    "\n",
    "public string Replace()\n",
    "{\n",
    "    string source = content;\n",
    "    string headingPattern = @\"(\\n|^)- .*?(?=\\n|$)\";\n",
    "\n",
    "    Regex regex = new Regex(headingPattern, RegexOptions.IgnoreCase);\n",
    "\n",
    "\n",
    "    Match match = regex.Match(source);\n",
    "\n",
    "\n",
    "    int count = 0;\n",
    "    \n",
    "    \n",
    "\n",
    "    if (match.Success)\n",
    "    {\n",
    "        source=ReplaceByValue(source, match.Value, \"\\\\begin{itemsize}\\n\"+match.Value);\n",
    "        \n",
    "        count++;\n",
    "        source = ReplaceByMatch(source,content, match);\n",
    "        \n",
    "\n",
    "        while(match.NextMatch().Success){\n",
    "            source=ReplaceByValue(source,\"\\\\end{itemsize}\\n\", \"\");\n",
    "            count++;\n",
    "            match=match.NextMatch();\n",
    "            source = ReplaceByValue(source, match.Value, match.Value+\"\\\\end{itemsize}\\n\");\n",
    "            source = ReplaceByMatch(source,content, match);\n",
    "            \n",
    "        }\n",
    "        \n",
    "        \n",
    "\n",
    "    }\n",
    "    return source;\n",
    "\n",
    "}\n",
    "\n",
    "string source = Replace();"
   ]
  },
  {
   "cell_type": "code",
   "execution_count": 74,
   "metadata": {},
   "outputs": [
    {
     "data": {
      "text/plain": [
       "\n",
       "this is a test string\n",
       "\\begin{itemsize}\n",
       "\\item  adsfsd this is \n",
       "\\item  bsfdssd\n",
       "\\item  c\n",
       "\\end{itemsize}\n",
       "\n"
      ]
     },
     "execution_count": 74,
     "metadata": {},
     "output_type": "execute_result"
    }
   ],
   "source": [
    "source"
   ]
  },
  {
   "cell_type": "code",
   "execution_count": 20,
   "metadata": {},
   "outputs": [
    {
     "name": "stderr",
     "output_type": "stream",
     "text": [
      "(1,1): error CS0103: The name 'count' does not exist in the current context\n"
     ]
    }
   ],
   "source": []
  },
  {
   "cell_type": "code",
   "execution_count": 8,
   "metadata": {},
   "outputs": [
    {
     "name": "stderr",
     "output_type": "stream",
     "text": [
      "(1,1): error CS0103: The name 'match' does not exist in the current context\n"
     ]
    },
    {
     "data": {
      "text/plain": [
       "\n",
       "this is a test string\n",
       "\\item - a\n",
       "\\item - b\n",
       "\\item - c\n",
       "\n"
      ]
     },
     "execution_count": 8,
     "metadata": {},
     "output_type": "execute_result"
    }
   ],
   "source": [
    "match.Index"
   ]
  },
  {
   "cell_type": "code",
   "execution_count": 9,
   "metadata": {},
   "outputs": [
    {
     "name": "stderr",
     "output_type": "stream",
     "text": [
      "(1,1): error CS0103: The name 'match' does not exist in the current context\n"
     ]
    },
    {
     "data": {
      "text/plain": [
       "\n",
       "this is a test string\n",
       "\\item - a\n",
       "\\item - b\n",
       "\\item - c\n",
       "\n"
      ]
     },
     "execution_count": 9,
     "metadata": {},
     "output_type": "execute_result"
    }
   ],
   "source": [
    "match.Length"
   ]
  },
  {
   "cell_type": "code",
   "execution_count": null,
   "metadata": {},
   "outputs": [],
   "source": []
  }
 ],
 "metadata": {
  "kernelspec": {
   "display_name": "C#",
   "language": "csharp",
   "name": "icsharpkernel"
  },
  "language": "csharp",
  "language_info": {
   "codemirror_mode": "",
   "file_extension": ".cs",
   "mimetype": "text/x-csharp",
   "name": "csharp",
   "nbconvert_exporter": "",
   "pygments_lexer": "",
   "version": "6.0.0.0"
  }
 },
 "nbformat": 4,
 "nbformat_minor": 2
}
