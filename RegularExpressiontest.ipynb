{
 "cells": [
  {
   "cell_type": "code",
   "execution_count": null,
   "metadata": {},
   "outputs": [],
   "source": [
    "// this is jupyter noterbook in C# kernel\n",
    "// it is for testing regular expression in APAWriter"
   ]
  },
  {
   "cell_type": "code",
   "execution_count": 3,
   "metadata": {},
   "outputs": [],
   "source": [
    "using System;\n",
    "using System.Collections.Generic;\n",
    "using System.Linq;\n",
    "using System.Text;\n",
    "using System.Threading.Tasks;\n",
    "using System.Text.RegularExpressions;"
   ]
  },
  {
   "cell_type": "code",
   "execution_count": 145,
   "metadata": {},
   "outputs": [
    {
     "data": {
      "text/plain": [
       "Start\n"
      ]
     },
     "metadata": {},
     "output_type": "display_data"
    }
   ],
   "source": [
    "\n",
    "Console.WriteLine(\"Start\");\n",
    "string content =@\"\n",
    "this is a test string\n",
    "# ahead \n",
    "\n",
    "and \n",
    "# a head \n",
    "\";\n",
    "\n"
   ]
  },
  {
   "cell_type": "code",
   "execution_count": 148,
   "metadata": {},
   "outputs": [],
   "source": [
    "private string ReplaceByValue(string content, string oldValue, string newValue){\n",
    "    return Regex.Replace(content, oldValue, newValue);\n",
    "}"
   ]
  },
  {
   "cell_type": "code",
   "execution_count": 149,
   "metadata": {},
   "outputs": [],
   "source": [
    "private string ReplaceByMatch(string content, Match m)\n",
    "{\n",
    "    string tmp = \"\\\\section{\";\n",
    "    string newValue = \"\";\n",
    "    try\n",
    "    {\n",
    "        newValue = tmp+content.Substring(m.Index +1 , + m.Length).Trim()+\"}\";\n",
    "        // remove the first # and trim leading and trailing whitespace.\n",
    "\n",
    "        return ReplaceByValue(content, m.Value, newValue);\n",
    "    }\n",
    "    catch(ArgumentOutOfRangeException e)\n",
    "    {\n",
    "        throw e;\n",
    "    }\n",
    "    catch(Exception e)\n",
    "    {\n",
    "        throw e;\n",
    "    }\n",
    "\n",
    "\n",
    "    return null;\n",
    "}\n",
    "\n",
    "string source = content;\n",
    "string headingPattern = @\"# \\b(?<word>\\w+)\";\n",
    "\n",
    "Regex regex = new Regex(headingPattern, RegexOptions.IgnoreCase);\n",
    "\n",
    "\n",
    "Match match = regex.Match(source);\n",
    "\n",
    "\n",
    "int count = 0;\n",
    "if (match.Success)\n",
    "{\n",
    "    count++;\n",
    "    source = ReplaceByMatch(source, match);\n",
    "\n",
    "    while(match.NextMatch().Success){\n",
    "        count++;\n",
    "        match=match.NextMatch();\n",
    "        source = ReplaceByMatch(source, match);\n",
    "    }\n",
    "\n",
    "}\n"
   ]
  },
  {
   "cell_type": "code",
   "execution_count": 135,
   "metadata": {},
   "outputs": [
    {
     "data": {
      "text/plain": [
       "2"
      ]
     },
     "execution_count": 135,
     "metadata": {},
     "output_type": "execute_result"
    }
   ],
   "source": [
    "count"
   ]
  },
  {
   "cell_type": "code",
   "execution_count": 150,
   "metadata": {},
   "outputs": [
    {
     "data": {
      "text/plain": [
       "\n",
       "this is a test string\n",
       "\\section{ahead} \n",
       "\n",
       "and \n",
       "\\section{a} head \n"
      ]
     },
     "execution_count": 150,
     "metadata": {},
     "output_type": "execute_result"
    }
   ],
   "source": [
    "source\n"
   ]
  },
  {
   "cell_type": "code",
   "execution_count": 60,
   "metadata": {},
   "outputs": [
    {
     "data": {
      "text/plain": [
       "0"
      ]
     },
     "execution_count": 60,
     "metadata": {},
     "output_type": "execute_result"
    }
   ],
   "source": [
    "match.Index"
   ]
  },
  {
   "cell_type": "code",
   "execution_count": 21,
   "metadata": {},
   "outputs": [
    {
     "data": {
      "text/plain": [
       "8"
      ]
     },
     "execution_count": 21,
     "metadata": {},
     "output_type": "execute_result"
    }
   ],
   "source": [
    "match.Length"
   ]
  },
  {
   "cell_type": "code",
   "execution_count": 25,
   "metadata": {},
   "outputs": [
    {
     "data": {
      "text/plain": [
       "ahead \n"
      ]
     },
     "execution_count": 25,
     "metadata": {},
     "output_type": "execute_result"
    }
   ],
   "source": [
    "content.Substring(match.Index+2, match.Length-1)"
   ]
  },
  {
   "cell_type": "code",
   "execution_count": 59,
   "metadata": {},
   "outputs": [
    {
     "data": {
      "text/plain": [
       "0"
      ]
     },
     "execution_count": 59,
     "metadata": {},
     "output_type": "execute_result"
    }
   ],
   "source": [
    "match.NextMatch().Index"
   ]
  },
  {
   "cell_type": "code",
   "execution_count": 34,
   "metadata": {},
   "outputs": [
    {
     "data": {
      "text/plain": [
       "# ahead "
      ]
     },
     "execution_count": 34,
     "metadata": {},
     "output_type": "execute_result"
    }
   ],
   "source": [
    "match.Value"
   ]
  },
  {
   "cell_type": "code",
   "execution_count": 42,
   "metadata": {},
   "outputs": [],
   "source": [
    "source.Replace(match.Value, \"{}\"+content.Substring(match.Index+2, match.Length-2));"
   ]
  },
  {
   "cell_type": "code",
   "execution_count": 43,
   "metadata": {},
   "outputs": [],
   "source": [
    "source.Replace('a','b');"
   ]
  },
  {
   "cell_type": "code",
   "execution_count": 44,
   "metadata": {},
   "outputs": [
    {
     "data": {
      "text/plain": [
       "\n",
       "this is a test string\n",
       "# ahead \n",
       "\n",
       "and \n",
       "# a head \n",
       "1# ahead "
      ]
     },
     "execution_count": 44,
     "metadata": {},
     "output_type": "execute_result"
    }
   ],
   "source": [
    "source"
   ]
  },
  {
   "cell_type": "code",
   "execution_count": 50,
   "metadata": {},
   "outputs": [],
   "source": [
    "string a =Regex.Replace(source, match.Value, \"\\\\section{ \"+content.Substring(match.Index+2, match.Length-2)+\"}\");\n"
   ]
  },
  {
   "cell_type": "code",
   "execution_count": 51,
   "metadata": {},
   "outputs": [
    {
     "data": {
      "text/plain": [
       "\n",
       "this is a test string\n",
       "\\section{ ahead }\n",
       "\n",
       "and \n",
       "# a head \n",
       "1\\section{ ahead }"
      ]
     },
     "execution_count": 51,
     "metadata": {},
     "output_type": "execute_result"
    }
   ],
   "source": [
    "a"
   ]
  },
  {
   "cell_type": "code",
   "execution_count": 2,
   "metadata": {},
   "outputs": [
    {
     "name": "stderr",
     "output_type": "stream",
     "text": [
      "(9,21): error CS0246: The type or namespace name 'APARegularExpression' could not be found (are you missing a using directive or an assembly reference?)\n",
      "(39,32): error CS0115: 'HeadingRE.Replace(string)': no suitable method found to override\n",
      "(11,39): error CS1729: 'APARegularExpression' does not contain a constructor that takes 1 arguments\n"
     ]
    }
   ],
   "source": []
  },
  {
   "cell_type": "code",
   "execution_count": null,
   "metadata": {},
   "outputs": [],
   "source": []
  },
  {
   "cell_type": "code",
   "execution_count": null,
   "metadata": {},
   "outputs": [],
   "source": []
  },
  {
   "cell_type": "code",
   "execution_count": null,
   "metadata": {},
   "outputs": [],
   "source": []
  },
  {
   "cell_type": "code",
   "execution_count": null,
   "metadata": {},
   "outputs": [],
   "source": []
  }
 ],
 "metadata": {
  "kernelspec": {
   "display_name": "C#",
   "language": "csharp",
   "name": "icsharpkernel"
  },
  "language": "csharp",
  "language_info": {
   "codemirror_mode": "",
   "file_extension": ".cs",
   "mimetype": "text/x-csharp",
   "name": "csharp",
   "nbconvert_exporter": "",
   "pygments_lexer": "",
   "version": "6.0.0.0"
  }
 },
 "nbformat": 4,
 "nbformat_minor": 2
}
