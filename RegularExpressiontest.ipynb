{
 "cells": [
  {
   "cell_type": "code",
   "execution_count": 1,
   "metadata": {},
   "outputs": [],
   "source": [
    "// this is jupyter noterbook in C# kernel\n",
    "// it is for testing regular expression in APAWriter"
   ]
  },
  {
   "cell_type": "code",
   "execution_count": 2,
   "metadata": {},
   "outputs": [],
   "source": [
    "using System;\n",
    "using System.Collections.Generic;\n",
    "using System.Linq;\n",
    "using System.Text;\n",
    "using System.Threading.Tasks;\n",
    "using System.Text.RegularExpressions;"
   ]
  },
  {
   "cell_type": "code",
   "execution_count": 58,
   "metadata": {},
   "outputs": [
    {
     "data": {
      "text/plain": [
       "Start\n"
      ]
     },
     "metadata": {},
     "output_type": "display_data"
    }
   ],
   "source": [
    "\n",
    "Console.WriteLine(\"Start\");\n",
    "string content =@\"\n",
    "this is a test string\n",
    "# ahead \n",
    "\n",
    "and \n",
    "# aasda\n",
    "head \n",
    "\n",
    "# adassdasad \n",
    "\";\n",
    "\n"
   ]
  },
  {
   "cell_type": "code",
   "execution_count": 59,
   "metadata": {},
   "outputs": [],
   "source": [
    "private string ReplaceByValue(string content, string oldValue, string newValue){\n",
    "    //return Regex.Replace(content, oldValue, newValue);\n",
    "    return content.Replace(oldValue, newValue);\n",
    "}"
   ]
  },
  {
   "cell_type": "code",
   "execution_count": 60,
   "metadata": {},
   "outputs": [],
   "source": [
    "private string ReplaceByMatch(string content, Match m)\n",
    "{\n",
    "    string tmp = \"\\\\section{\";\n",
    "    string newValue = \"\";\n",
    "    try\n",
    "    {\n",
    "        newValue = tmp+content.Substring(m.Index +1 , + m.Length).Trim()+\"}\";\n",
    "        // remove the first # and trim leading and trailing whitespace.\n",
    "\n",
    "        return ReplaceByValue(content, m.Value, newValue);\n",
    "    }\n",
    "    catch(ArgumentOutOfRangeException e)\n",
    "    {\n",
    "        throw e;\n",
    "    }\n",
    "    catch(Exception e)\n",
    "    {\n",
    "        throw e;\n",
    "    }\n",
    "\n",
    "\n",
    "    return null;\n",
    "}\n",
    "\n",
    "string ReplaceByMatch(string source,string content, Match m)\n",
    "{\n",
    "    string tmp = \"\\\\section{\";\n",
    "    string newValue = \"\";\n",
    "    try\n",
    "    {\n",
    "        newValue = tmp + content.Substring(m.Index + 1, m.Length).Trim() + \"}\";\n",
    "        // remove the first # and trim leading and trailing whitespace.\n",
    "\n",
    "        return ReplaceByValue(source, m.Value, newValue);\n",
    "    }\n",
    "    catch (ArgumentOutOfRangeException e)\n",
    "    {\n",
    "        if (m.Length >= 3 || m.Length<=1)\n",
    "        {\n",
    "            //throw e;\n",
    "        }\n",
    "\n",
    "    }\n",
    "    catch (Exception e)\n",
    "    {\n",
    "        throw e;\n",
    "    }\n",
    "\n",
    "\n",
    "    return null;\n",
    "}\n",
    "\n",
    "public string Replace()\n",
    "{\n",
    "    string source = content;\n",
    "    string headingPattern = @\"# \\b(?<word>\\w+)\";\n",
    "\n",
    "    Regex regex = new Regex(headingPattern, RegexOptions.IgnoreCase);\n",
    "\n",
    "\n",
    "    Match match = regex.Match(source);\n",
    "\n",
    "\n",
    "    int count = 0;\n",
    "\n",
    "    if (match.Success)\n",
    "    {\n",
    "        count++;\n",
    "        source = ReplaceByMatch(source,content, match);\n",
    "\n",
    "        while(match.NextMatch().Success){\n",
    "            count++;\n",
    "            match=match.NextMatch();\n",
    "            source = ReplaceByMatch(source,content, match);\n",
    "        }\n",
    "\n",
    "    }\n",
    "    return source;\n",
    "\n",
    "}\n",
    "\n",
    "string source = Replace();"
   ]
  },
  {
   "cell_type": "code",
   "execution_count": 61,
   "metadata": {},
   "outputs": [
    {
     "data": {
      "text/plain": [
       "\n",
       "this is a test string\n",
       "\\section{ahead} \n",
       "\n",
       "and \n",
       "\\section{aasda}\n",
       "head \n",
       "\n",
       "\\section{adassdasad} \n"
      ]
     },
     "execution_count": 61,
     "metadata": {},
     "output_type": "execute_result"
    }
   ],
   "source": [
    "source"
   ]
  },
  {
   "cell_type": "code",
   "execution_count": 20,
   "metadata": {},
   "outputs": [
    {
     "data": {
      "text/plain": [
       "2"
      ]
     },
     "execution_count": 20,
     "metadata": {},
     "output_type": "execute_result"
    }
   ],
   "source": [
    "\n",
    "count"
   ]
  },
  {
   "cell_type": "code",
   "execution_count": 8,
   "metadata": {},
   "outputs": [
    {
     "data": {
      "text/plain": [
       "38"
      ]
     },
     "execution_count": 8,
     "metadata": {},
     "output_type": "execute_result"
    }
   ],
   "source": [
    "match.Index"
   ]
  },
  {
   "cell_type": "code",
   "execution_count": 9,
   "metadata": {},
   "outputs": [
    {
     "data": {
      "text/plain": [
       "3"
      ]
     },
     "execution_count": 9,
     "metadata": {},
     "output_type": "execute_result"
    }
   ],
   "source": [
    "match.Length"
   ]
  },
  {
   "cell_type": "code",
   "execution_count": 10,
   "metadata": {},
   "outputs": [
    {
     "data": {
      "text/plain": [
       "a "
      ]
     },
     "execution_count": 10,
     "metadata": {},
     "output_type": "execute_result"
    }
   ],
   "source": [
    "content.Substring(match.Index+2, match.Length-1)"
   ]
  },
  {
   "cell_type": "code",
   "execution_count": 11,
   "metadata": {},
   "outputs": [
    {
     "data": {
      "text/plain": [
       "0"
      ]
     },
     "execution_count": 11,
     "metadata": {},
     "output_type": "execute_result"
    }
   ],
   "source": [
    "match.NextMatch().Index"
   ]
  },
  {
   "cell_type": "code",
   "execution_count": 12,
   "metadata": {},
   "outputs": [
    {
     "data": {
      "text/plain": [
       "# a"
      ]
     },
     "execution_count": 12,
     "metadata": {},
     "output_type": "execute_result"
    }
   ],
   "source": [
    "match.Value"
   ]
  },
  {
   "cell_type": "code",
   "execution_count": 13,
   "metadata": {},
   "outputs": [],
   "source": [
    "source.Replace(match.Value, \"{}\"+content.Substring(match.Index+2, match.Length-2));"
   ]
  },
  {
   "cell_type": "code",
   "execution_count": 14,
   "metadata": {},
   "outputs": [],
   "source": [
    "source.Replace('a','b');"
   ]
  },
  {
   "cell_type": "code",
   "execution_count": 15,
   "metadata": {},
   "outputs": [
    {
     "data": {
      "text/plain": [
       "\n",
       "this is a test string\n",
       "\\section{ahead} \n",
       "\n",
       "and \n",
       "\\section{a} head \n"
      ]
     },
     "execution_count": 15,
     "metadata": {},
     "output_type": "execute_result"
    }
   ],
   "source": [
    "source"
   ]
  },
  {
   "cell_type": "code",
   "execution_count": 16,
   "metadata": {},
   "outputs": [],
   "source": [
    "string a =Regex.Replace(source, match.Value, \"\\\\section{ \"+content.Substring(match.Index+2, match.Length-2)+\"}\");\n"
   ]
  },
  {
   "cell_type": "code",
   "execution_count": 17,
   "metadata": {},
   "outputs": [
    {
     "data": {
      "text/plain": [
       "\n",
       "this is a test string\n",
       "\\section{ahead} \n",
       "\n",
       "and \n",
       "\\section{a} head \n"
      ]
     },
     "execution_count": 17,
     "metadata": {},
     "output_type": "execute_result"
    }
   ],
   "source": [
    "a"
   ]
  },
  {
   "cell_type": "code",
   "execution_count": null,
   "metadata": {},
   "outputs": [],
   "source": []
  },
  {
   "cell_type": "code",
   "execution_count": null,
   "metadata": {},
   "outputs": [],
   "source": []
  },
  {
   "cell_type": "code",
   "execution_count": null,
   "metadata": {},
   "outputs": [],
   "source": []
  },
  {
   "cell_type": "code",
   "execution_count": null,
   "metadata": {},
   "outputs": [],
   "source": []
  },
  {
   "cell_type": "code",
   "execution_count": null,
   "metadata": {},
   "outputs": [],
   "source": []
  }
 ],
 "metadata": {
  "kernelspec": {
   "display_name": "C#",
   "language": "csharp",
   "name": "icsharpkernel"
  },
  "language": "csharp",
  "language_info": {
   "codemirror_mode": "",
   "file_extension": ".cs",
   "mimetype": "text/x-csharp",
   "name": "csharp",
   "nbconvert_exporter": "",
   "pygments_lexer": "",
   "version": "6.0.0.0"
  }
 },
 "nbformat": 4,
 "nbformat_minor": 2
}
