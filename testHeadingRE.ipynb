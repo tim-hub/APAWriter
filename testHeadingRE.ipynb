{
 "cells": [
  {
   "cell_type": "code",
   "execution_count": 31,
   "metadata": {},
   "outputs": [],
   "source": [
    "// this is jupyter noterbook in C# kernel\n",
    "// it is for testing regular expression in APAWriter"
   ]
  },
  {
   "cell_type": "code",
   "execution_count": 32,
   "metadata": {},
   "outputs": [],
   "source": [
    "using System;\n",
    "using System.Collections.Generic;\n",
    "using System.Linq;\n",
    "using System.Text;\n",
    "using System.Threading.Tasks;\n",
    "using System.Text.RegularExpressions;"
   ]
  },
  {
   "cell_type": "code",
   "execution_count": 50,
   "metadata": {},
   "outputs": [
    {
     "data": {
      "text/plain": [
       "Start\n"
      ]
     },
     "metadata": {},
     "output_type": "display_data"
    }
   ],
   "source": [
    "\n",
    "Console.WriteLine(\"Start\");\n",
    "string content =@\"\n",
    "this is a test string\n",
    "# ahead \n",
    "\n",
    "and \n",
    "# aasda \n",
    "head \n",
    "\n",
    "# adass dasad \n",
    "\n",
    "ahdsh 3 sdhh # sdds\n",
    "\n",
    "\n",
    "# a \n",
    "# abc \n",
    "\";\n",
    "\n"
   ]
  },
  {
   "cell_type": "code",
   "execution_count": 41,
   "metadata": {},
   "outputs": [],
   "source": [
    "private string ReplaceByValue(string content, string oldValue, string newValue){\n",
    "    // return Regex.Replace(content, oldValue, newValue);\n",
    "    return content.Replace(oldValue, newValue);\n",
    "}"
   ]
  },
  {
   "cell_type": "code",
   "execution_count": 51,
   "metadata": {},
   "outputs": [],
   "source": [
    "\n",
    "string ReplaceByMatch(string source,string content, Match m)\n",
    "{\n",
    "    string tmp = \"\\n\\\\section{\";\n",
    "    string newValue = \"\";\n",
    "    try\n",
    "    {\n",
    "        newValue = tmp + content.Substring(m.Index + 2, m.Length-1).Trim() + \"}\";\n",
    "        // remove the first # and trim leading and trailing whitespace.\n",
    "\n",
    "        return ReplaceByValue(source, m.Value, newValue);\n",
    "    }\n",
    "    catch (ArgumentOutOfRangeException e)\n",
    "    {\n",
    "        if (m.Length >= 3 || m.Length<=1)\n",
    "        {\n",
    "            //throw e;\n",
    "        }\n",
    "\n",
    "    }\n",
    "    catch (Exception e)\n",
    "    {\n",
    "        throw e;\n",
    "    }\n",
    "\n",
    "\n",
    "    return null;\n",
    "}\n",
    "\n",
    "public string Replace()\n",
    "{\n",
    "    string source = content;\n",
    "    string headingPattern = @\"(\\n|^)# .*?(?=\\n|$)\";\n",
    "\n",
    "    Regex regex = new Regex(headingPattern, RegexOptions.IgnoreCase);\n",
    "\n",
    "\n",
    "    Match match = regex.Match(source);\n",
    "\n",
    "\n",
    "    int count = 0;\n",
    "\n",
    "    if (match.Success)\n",
    "    {\n",
    "        count++;\n",
    "        source = ReplaceByMatch(source,content, match);\n",
    "\n",
    "        while(match.NextMatch().Success){\n",
    "            count++;\n",
    "            match=match.NextMatch();\n",
    "            source = ReplaceByMatch(source,content, match);\n",
    "        }\n",
    "\n",
    "    }\n",
    "    return source;\n",
    "\n",
    "}\n",
    "\n",
    "string source = Replace();"
   ]
  },
  {
   "cell_type": "code",
   "execution_count": 52,
   "metadata": {},
   "outputs": [
    {
     "data": {
      "text/plain": [
       "\n",
       "this is a test string\n",
       "\\section{ahead}\n",
       "\n",
       "and \n",
       "\\section{aasda}\n",
       "head \n",
       "\n",
       "\\section{adass dasad}\n",
       "\n",
       "ahdsh 3 sdhh # sdds\n",
       "\n",
       "\n",
       "\\section{a}\n",
       "\\section{abc}\n"
      ]
     },
     "execution_count": 52,
     "metadata": {},
     "output_type": "execute_result"
    }
   ],
   "source": [
    "source"
   ]
  },
  {
   "cell_type": "code",
   "execution_count": 37,
   "metadata": {},
   "outputs": [
    {
     "name": "stderr",
     "output_type": "stream",
     "text": [
      "(1,1): error CS0103: The name 'count' does not exist in the current context\n"
     ]
    },
    {
     "data": {
      "text/plain": [
       "\n",
       "this is a test string\n",
       "\\section{ahead}\n",
       "\n",
       "and \n",
       "\\section{aasda}\n",
       "head \n",
       "\n",
       "\\section{adassdasad}\n",
       "\n",
       "\\section{a}\n",
       "\\section{abc}\n"
      ]
     },
     "execution_count": 37,
     "metadata": {},
     "output_type": "execute_result"
    }
   ],
   "source": [
    "count"
   ]
  },
  {
   "cell_type": "code",
   "execution_count": 38,
   "metadata": {},
   "outputs": [
    {
     "name": "stderr",
     "output_type": "stream",
     "text": [
      "(1,1): error CS0103: The name 'match' does not exist in the current context\n"
     ]
    },
    {
     "data": {
      "text/plain": [
       "\n",
       "this is a test string\n",
       "\\section{ahead}\n",
       "\n",
       "and \n",
       "\\section{aasda}\n",
       "head \n",
       "\n",
       "\\section{adassdasad}\n",
       "\n",
       "\\section{a}\n",
       "\\section{abc}\n"
      ]
     },
     "execution_count": 38,
     "metadata": {},
     "output_type": "execute_result"
    }
   ],
   "source": [
    "match.Index"
   ]
  },
  {
   "cell_type": "code",
   "execution_count": 39,
   "metadata": {},
   "outputs": [
    {
     "name": "stderr",
     "output_type": "stream",
     "text": [
      "(1,1): error CS0103: The name 'match' does not exist in the current context\n"
     ]
    },
    {
     "data": {
      "text/plain": [
       "\n",
       "this is a test string\n",
       "\\section{ahead}\n",
       "\n",
       "and \n",
       "\\section{aasda}\n",
       "head \n",
       "\n",
       "\\section{adassdasad}\n",
       "\n",
       "\\section{a}\n",
       "\\section{abc}\n"
      ]
     },
     "execution_count": 39,
     "metadata": {},
     "output_type": "execute_result"
    }
   ],
   "source": [
    "match.Length"
   ]
  },
  {
   "cell_type": "code",
   "execution_count": null,
   "metadata": {},
   "outputs": [],
   "source": []
  }
 ],
 "metadata": {
  "kernelspec": {
   "display_name": "C#",
   "language": "csharp",
   "name": "icsharpkernel"
  },
  "language": "csharp",
  "language_info": {
   "codemirror_mode": "",
   "file_extension": ".cs",
   "mimetype": "text/x-csharp",
   "name": "csharp",
   "nbconvert_exporter": "",
   "pygments_lexer": "",
   "version": "6.0.0.0"
  }
 },
 "nbformat": 4,
 "nbformat_minor": 2
}
